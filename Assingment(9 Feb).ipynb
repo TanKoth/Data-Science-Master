{
 "cells": [
  {
   "cell_type": "markdown",
   "id": "271175b7-5b63-44cb-a314-3a0cc836f0c8",
   "metadata": {},
   "source": [
    "## Q1.Create a vehicle class with an init method having instance variables as name_of_vehicle, max_speed and average_of_vehicle."
   ]
  },
  {
   "cell_type": "code",
   "execution_count": 2,
   "id": "8d0a9952-d299-443d-946e-ce565dd0f108",
   "metadata": {},
   "outputs": [],
   "source": [
    "class vehicle:\n",
    "    def __init__(self,name_of_vehicle,max_speed,average_of_vehicle):\n",
    "        self.name_of_vehicle = name_of_vehicle\n",
    "        self.max_speed = 300\n",
    "        self.average_of_vehicle = average_of_vehicle"
   ]
  },
  {
   "cell_type": "markdown",
   "id": "fe313c17-603d-492d-9009-4cdb9eef1918",
   "metadata": {},
   "source": [
    "## Q2. Create a child class car from the vehicle class created in Que 1, which will inherit the vehicle class.Create a method named seating_capacity which takes capacity as an argument and returns the name of the vehicle and its seating capacity.\n"
   ]
  },
  {
   "cell_type": "code",
   "execution_count": 12,
   "id": "ced10cb5-cecb-4573-92e6-1a21db16267e",
   "metadata": {},
   "outputs": [],
   "source": [
    "class car(vehicle):\n",
    "    \n",
    "    def seating_capacity(self,capacity):\n",
    "        return f\" the {self.name_of_vehicle} capacity {capacity}\"\n",
    "    \n",
    "    "
   ]
  },
  {
   "cell_type": "code",
   "execution_count": 13,
   "id": "cb220f68-eddd-4370-a185-d5ffbfa34e61",
   "metadata": {},
   "outputs": [],
   "source": [
    "obj = car(\"bmw\",300,\"15L/km\")"
   ]
  },
  {
   "cell_type": "code",
   "execution_count": 14,
   "id": "d33c7ea7-1bd2-4e14-99f5-d0d113f51c28",
   "metadata": {},
   "outputs": [
    {
     "name": "stdout",
     "output_type": "stream",
     "text": [
      " the bmw capacity 4\n"
     ]
    }
   ],
   "source": [
    "print(obj.seating_capacity(4))"
   ]
  },
  {
   "cell_type": "markdown",
   "id": "a32e5731-716f-402c-94b7-c974bf5c4729",
   "metadata": {},
   "source": [
    "## Q3. What is multiple inheritance? Write a python code to demonstrate multiple inheritance.\n"
   ]
  },
  {
   "cell_type": "markdown",
   "id": "ee201f60-f3b2-42d2-9e42-cc781f0a0d08",
   "metadata": {},
   "source": [
    "## Ans: Multiple inheritance is the inheritance which have mulptiple parents and single child."
   ]
  },
  {
   "cell_type": "markdown",
   "id": "b8ba8dab-ddb4-413b-a72b-b85d71e503b7",
   "metadata": {},
   "source": [
    "## Code"
   ]
  },
  {
   "cell_type": "code",
   "execution_count": 18,
   "id": "0977a26b-cab5-4bc5-a7d0-288a1e510db5",
   "metadata": {},
   "outputs": [],
   "source": [
    "class parent1:\n",
    "    def parent1(self):\n",
    "        print(\"This is parent1 class\")"
   ]
  },
  {
   "cell_type": "code",
   "execution_count": 19,
   "id": "ca8e092e-67eb-49eb-bdc0-594fe094c275",
   "metadata": {},
   "outputs": [],
   "source": [
    "class parent2:\n",
    "    def parent2(self):\n",
    "        print(\"This is parent2 class\")"
   ]
  },
  {
   "cell_type": "code",
   "execution_count": 20,
   "id": "c2070fde-be99-4da2-a9ec-02223946a671",
   "metadata": {},
   "outputs": [],
   "source": [
    "class child(parent1,parent2):\n",
    "    def child(self):\n",
    "        pass"
   ]
  },
  {
   "cell_type": "code",
   "execution_count": 21,
   "id": "422c75a0-1e2d-4e08-95ec-353049656af5",
   "metadata": {},
   "outputs": [],
   "source": [
    "obj_child = child() "
   ]
  },
  {
   "cell_type": "code",
   "execution_count": 22,
   "id": "ea59fc8d-ea86-49fa-b9bb-022b91307b41",
   "metadata": {},
   "outputs": [
    {
     "name": "stdout",
     "output_type": "stream",
     "text": [
      "This is parent1 class\n",
      "This is parent2 class\n"
     ]
    }
   ],
   "source": [
    "obj_child.parent1()\n",
    "obj_child.parent2()"
   ]
  },
  {
   "cell_type": "markdown",
   "id": "5d8351ec-6998-4bd2-8131-4b0e5a779899",
   "metadata": {},
   "source": [
    "## Q4. What are getter and setter in python? Create a class and create a getter and a setter method in this class.\n"
   ]
  },
  {
   "cell_type": "markdown",
   "id": "bc97bcd5-4eda-4df0-b725-21291171d8d6",
   "metadata": {},
   "source": [
    "## Getter: A method that allows you to access an attribute in a given class\n",
    "## Setter: A method that allows you to set or mutate the value of an attribute in a class"
   ]
  },
  {
   "cell_type": "code",
   "execution_count": 24,
   "id": "1aaa1c9a-2185-4c06-ba7b-43dd8c8dea8f",
   "metadata": {},
   "outputs": [],
   "source": [
    "class car:\n",
    "    def __init__(self,year,model,speed):\n",
    "        self.__year = year\n",
    "        self.__model = model\n",
    "        self.__speed = speed\n",
    "        \n",
    "    def set_speed(self,speed):\n",
    "        self.__speed = 0 if speed > 0 else speed\n",
    "        \n",
    "    def get_speed(self):\n",
    "        return self.__speed"
   ]
  },
  {
   "cell_type": "code",
   "execution_count": 26,
   "id": "28fbfd2e-1c28-4176-925e-c549b84ad094",
   "metadata": {},
   "outputs": [],
   "source": [
    "obj = car(2023,\"BMW\",300)"
   ]
  },
  {
   "cell_type": "code",
   "execution_count": 27,
   "id": "620339a0-21e2-4202-aac8-b08935f667eb",
   "metadata": {},
   "outputs": [
    {
     "data": {
      "text/plain": [
       "300"
      ]
     },
     "execution_count": 27,
     "metadata": {},
     "output_type": "execute_result"
    }
   ],
   "source": [
    "obj.get_speed()"
   ]
  },
  {
   "cell_type": "markdown",
   "id": "98041805-d286-4161-9866-44df839b7a06",
   "metadata": {},
   "source": [
    "## Q5.What is method overriding in python? Write a python code to demonstrate method overriding."
   ]
  },
  {
   "cell_type": "markdown",
   "id": "0bce0779-dcac-4cf5-9127-14b3fd25c31c",
   "metadata": {},
   "source": [
    "## Ans: Method overriding is an ability that allows a subclass or child class to provide a specific implementation of a method that is already provided by one of its super-classes or parent classes."
   ]
  },
  {
   "cell_type": "markdown",
   "id": "ffaa48c2-c6b7-4021-a2cf-bf3d422553bd",
   "metadata": {},
   "source": [
    "## code:"
   ]
  },
  {
   "cell_type": "code",
   "execution_count": 31,
   "id": "9d90a740-830a-46ec-9535-2f5a1dd2e158",
   "metadata": {},
   "outputs": [],
   "source": [
    "class parent:\n",
    "    def __init__(self):\n",
    "        self.value = \"this is parent class\"\n",
    "        \n",
    "    def show(self):\n",
    "        print(self.value)\n",
    "        \n",
    "class child(parent):\n",
    "    def __init__(self):\n",
    "        self.value = \"this child class\"\n",
    "        \n",
    "    def show(self):\n",
    "        print(self.value)"
   ]
  },
  {
   "cell_type": "code",
   "execution_count": 32,
   "id": "5dd62eca-446a-4017-8037-2b0670e7162a",
   "metadata": {},
   "outputs": [],
   "source": [
    "obj1 = parent()\n",
    "obj2 = child()"
   ]
  },
  {
   "cell_type": "code",
   "execution_count": 33,
   "id": "39da047e-ab9a-49b8-9e83-f166263a87cc",
   "metadata": {},
   "outputs": [
    {
     "name": "stdout",
     "output_type": "stream",
     "text": [
      "this is parent class\n",
      "this child class\n"
     ]
    }
   ],
   "source": [
    "obj1.show()\n",
    "obj2.show()"
   ]
  },
  {
   "cell_type": "code",
   "execution_count": null,
   "id": "1ca11cf8-08b5-4481-9861-81e92544711c",
   "metadata": {},
   "outputs": [],
   "source": []
  }
 ],
 "metadata": {
  "kernelspec": {
   "display_name": "Python 3 (ipykernel)",
   "language": "python",
   "name": "python3"
  },
  "language_info": {
   "codemirror_mode": {
    "name": "ipython",
    "version": 3
   },
   "file_extension": ".py",
   "mimetype": "text/x-python",
   "name": "python",
   "nbconvert_exporter": "python",
   "pygments_lexer": "ipython3",
   "version": "3.10.8"
  }
 },
 "nbformat": 4,
 "nbformat_minor": 5
}
