{
 "cells": [
  {
   "cell_type": "markdown",
   "id": "8061ffbb-ebb6-4ea4-8c6a-034bc78c04aa",
   "metadata": {},
   "source": [
    "## Q1. Which keyword is used to create a function? Create a function to return a list of odd numbers in the range of 1 to 25."
   ]
  },
  {
   "cell_type": "markdown",
   "id": "fe42584f-9d6a-40cf-8a41-aa0d87e13553",
   "metadata": {},
   "source": [
    "## def keyword is sused to create the funtion\n",
    "## eg. def fun(l):\n",
    " ##       return l"
   ]
  },
  {
   "cell_type": "code",
   "execution_count": 12,
   "id": "cac7c73b-8c25-4042-88d8-cfe07bde2fcf",
   "metadata": {},
   "outputs": [],
   "source": [
    "def oddNumber(n):\n",
    "    l = []\n",
    "    for i in range(n):\n",
    "        if(i%2)!=0:\n",
    "            l.append(i)\n",
    "    return l"
   ]
  },
  {
   "cell_type": "code",
   "execution_count": 13,
   "id": "0dd4872e-d323-4d2e-b14f-942d009bdb82",
   "metadata": {},
   "outputs": [
    {
     "data": {
      "text/plain": [
       "[1, 3, 5, 7, 9, 11, 13, 15, 17, 19, 21, 23]"
      ]
     },
     "execution_count": 13,
     "metadata": {},
     "output_type": "execute_result"
    }
   ],
   "source": [
    "oddNumber(25)"
   ]
  },
  {
   "cell_type": "markdown",
   "id": "b472e3ab-976e-4763-bfe8-4dc55c1e2f06",
   "metadata": {},
   "source": [
    "## Q2. Why *args and **kwargs is used in some functions? Create a function each for *args and **kwargs to demonstrate their use."
   ]
  },
  {
   "cell_type": "markdown",
   "id": "17127bfa-bb3f-4823-b092-8c98b806ff3e",
   "metadata": {},
   "source": [
    "## *args is used for passing N numbers of agruments in function\n",
    "## **kwargs is used to pass N numbers of key and value pair in function"
   ]
  },
  {
   "cell_type": "code",
   "execution_count": 22,
   "id": "bfbb9f70-03a8-407e-9bd0-b6471e8dba20",
   "metadata": {},
   "outputs": [],
   "source": [
    "def test1(*args):\n",
    "    return args"
   ]
  },
  {
   "cell_type": "code",
   "execution_count": 23,
   "id": "a5067b2e-87f4-46f0-a7f4-cc21290bf849",
   "metadata": {},
   "outputs": [
    {
     "data": {
      "text/plain": [
       "(1, 2, 3, 4, [5, 6, 8, 9, 7], (2, 5, 6, 9, 8))"
      ]
     },
     "execution_count": 23,
     "metadata": {},
     "output_type": "execute_result"
    }
   ],
   "source": [
    "test1(1,2,3,4,[5,6,8,9,7],(2,5,6,9,8))"
   ]
  },
  {
   "cell_type": "code",
   "execution_count": 24,
   "id": "5be22e2b-d247-47ca-bac3-cb8a347cf2ac",
   "metadata": {},
   "outputs": [],
   "source": [
    "def test2(**kwargs):\n",
    "    return kwargs"
   ]
  },
  {
   "cell_type": "code",
   "execution_count": 25,
   "id": "3fa01927-f49e-4861-9cf8-3391c1db2102",
   "metadata": {},
   "outputs": [
    {
     "data": {
      "text/plain": [
       "{'a': [1, 2, 3, 4, 5], 'b': ('xyz', 'abc'), 'c': 34, 'd': 50}"
      ]
     },
     "execution_count": 25,
     "metadata": {},
     "output_type": "execute_result"
    }
   ],
   "source": [
    "test2(a=[1,2,3,4,5],b=('xyz','abc'),c=34,d=50)"
   ]
  },
  {
   "cell_type": "markdown",
   "id": "17c77398-f240-41c7-8fa0-7008918a2a06",
   "metadata": {},
   "source": [
    "## Q3. What is an iterator in python? Name the method used to initialise the iterator object and the method used for iteration. Use these methods to print the first five elements of the given list [2, 4, 6, 8, 10, 12, 14, 16, 18, 20]."
   ]
  },
  {
   "cell_type": "code",
   "execution_count": 54,
   "id": "dd1bbc02-f7cc-4ee0-bf86-cbfefbc3fe9b",
   "metadata": {},
   "outputs": [],
   "source": [
    "l =[2, 4, 6, 8, 10, 12, 14, 16, 18, 20]"
   ]
  },
  {
   "cell_type": "code",
   "execution_count": 67,
   "id": "2ecdb2aa-9f03-4a0b-bce6-2e52c55db09c",
   "metadata": {},
   "outputs": [
    {
     "name": "stdout",
     "output_type": "stream",
     "text": [
      "[2, 4, 6, 8, 10]\n"
     ]
    }
   ],
   "source": [
    "N = 5\n",
    "new_list = []\n",
    "for i in range(0, N):\n",
    "     new_list.append(l[i])\n",
    "print(new_list)"
   ]
  },
  {
   "cell_type": "markdown",
   "id": "db0928e7-bf07-40b4-bc2b-7ef6b6fc675b",
   "metadata": {},
   "source": [
    "## Q4. What is a generator function in python? Why yield keyword is used? Give an example of a generator function."
   ]
  },
  {
   "cell_type": "markdown",
   "id": "cb784dc9-be34-45fc-b76b-c622d64829aa",
   "metadata": {},
   "source": [
    "## Generator is a function that returns an iterator that produces a sequence of values when iterated over\n",
    "## The yield keyword will convert an expression that is specified along with it to a generator object and return it to the caller."
   ]
  },
  {
   "cell_type": "code",
   "execution_count": 28,
   "id": "5bef1d2c-a509-4999-bd13-7b79581a4546",
   "metadata": {},
   "outputs": [],
   "source": [
    "def Fibonacci(n):\n",
    "    a,b = 0,1\n",
    "    for i in range(n):\n",
    "        yield a\n",
    "        a,b = b,a+b"
   ]
  },
  {
   "cell_type": "code",
   "execution_count": 29,
   "id": "d5259728-2392-429a-93ac-46236b46bb3c",
   "metadata": {},
   "outputs": [
    {
     "name": "stdout",
     "output_type": "stream",
     "text": [
      "0\n",
      "1\n",
      "1\n",
      "2\n",
      "3\n",
      "5\n",
      "8\n",
      "13\n",
      "21\n",
      "34\n"
     ]
    }
   ],
   "source": [
    " for i in Fibonacci(10):\n",
    "        print(i)"
   ]
  },
  {
   "cell_type": "markdown",
   "id": "38833a96-7016-4aa0-8e57-e1c878799e78",
   "metadata": {},
   "source": [
    "## Q5. Create a generator function for prime numbers less than 1000. Use the next() method to print the first 20 prime numbers."
   ]
  },
  {
   "cell_type": "code",
   "execution_count": 30,
   "id": "5ffe89d6-f929-466e-81d6-f7fc82edfdcb",
   "metadata": {},
   "outputs": [],
   "source": [
    "def isPrime(N):\n",
    "    for x in range(2,N):\n",
    "        if N%x == 0:\n",
    "            return False\n",
    "    return True"
   ]
  },
  {
   "cell_type": "code",
   "execution_count": 33,
   "id": "4f2e523b-7e49-465c-89c2-3655509b69bd",
   "metadata": {},
   "outputs": [
    {
     "name": "stdout",
     "output_type": "stream",
     "text": [
      "2 3 5 7 11 13 17 19 23 29 31 37 41 43 47 53 59 61 67 71 73 79 83 89 97 101 103 107 109 113 127 131 137 139 149 151 157 163 167 173 179 181 191 193 197 199 211 223 227 229 233 239 241 251 257 263 269 271 277 281 283 293 307 311 313 317 331 337 347 349 353 359 367 373 379 383 389 397 401 409 419 421 431 433 439 443 449 457 461 463 467 479 487 491 499 503 509 521 523 541 547 557 563 569 571 577 587 593 599 601 607 613 617 619 631 641 643 647 653 659 661 673 677 683 691 701 709 719 727 733 739 743 751 757 761 769 773 787 797 809 811 821 823 827 829 839 853 857 859 863 877 881 883 887 907 911 919 929 937 941 947 953 967 971 977 983 991 997 "
     ]
    }
   ],
   "source": [
    "def printPrimes(M):\n",
    "    for x in range(2,M):\n",
    "        if isPrime(x):\n",
    "            print(x, end=\" \")\n",
    "\n",
    "printPrimes(1000)  "
   ]
  },
  {
   "cell_type": "code",
   "execution_count": null,
   "id": "e30f5c08-db70-4ce8-85a5-b764a797597f",
   "metadata": {},
   "outputs": [],
   "source": []
  }
 ],
 "metadata": {
  "kernelspec": {
   "display_name": "Python 3 (ipykernel)",
   "language": "python",
   "name": "python3"
  },
  "language_info": {
   "codemirror_mode": {
    "name": "ipython",
    "version": 3
   },
   "file_extension": ".py",
   "mimetype": "text/x-python",
   "name": "python",
   "nbconvert_exporter": "python",
   "pygments_lexer": "ipython3",
   "version": "3.10.8"
  }
 },
 "nbformat": 4,
 "nbformat_minor": 5
}
