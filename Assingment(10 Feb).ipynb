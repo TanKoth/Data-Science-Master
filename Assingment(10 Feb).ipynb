{
 "cells": [
  {
   "cell_type": "markdown",
   "id": "dcb90e2d-defc-4d29-b91d-9746146b0737",
   "metadata": {},
   "source": [
    "## Q1.Which function is used to open a file? What are the different modes of opening a file? Explain each mode of file opening.\n"
   ]
  },
  {
   "cell_type": "markdown",
   "id": "e92859ef-debb-44e6-8ef4-f2ae02d286e2",
   "metadata": {},
   "source": [
    "## Ans: open() is used to open a file. The different mode of opening a file is as follows\n",
    "\n",
    "## 1.'r'       open for reading (default)\n",
    "## 2.'w'       open for writing, truncating the file first\n",
    "## 3.'x'       create a new file and open it for writing\n",
    "## 4.'a'       open for writing, appending to the end of the file if it exists\n",
    "## 5.'b'       binary mode\n",
    "## 6.'t'       text mode (default)\n",
    "## 7.'+'       open a disk file for updating (reading and writing)\n",
    "## 8.'U'       universal newline mode (deprecated)\n",
    "## 9.'rb'      open for reading binary file\n",
    "## 10.'wt'    open for writing the binary file"
   ]
  },
  {
   "cell_type": "markdown",
   "id": "ade0b05d-04ef-4c54-a489-c2aaf975fb85",
   "metadata": {},
   "source": [
    "##  Q2.Why close() function is used? Why is it important to close a file?\n"
   ]
  },
  {
   "cell_type": "markdown",
   "id": "a4238651-c2d6-4c06-a431-0995b07ae367",
   "metadata": {},
   "source": [
    "## Ans: close() is used to close the open file. It is important to close a file because, until and unless open file is not close we cannot see the desire output in th file"
   ]
  },
  {
   "cell_type": "markdown",
   "id": "0c247eb4-0bc5-4552-abfa-98f52629ba4d",
   "metadata": {},
   "source": [
    "## Q3. Write a python program to create a text file. Write ‘I want to become a Data Scientist’ in that file. Then close the file. Open this file and read the content of the file."
   ]
  },
  {
   "cell_type": "code",
   "execution_count": 1,
   "id": "550934aa-722a-4f37-b677-b0f96fcc9058",
   "metadata": {},
   "outputs": [],
   "source": [
    "file = open('text.txt','w')\n",
    "file.write(\"I want to become a Data Scientist\")\n",
    "file.close()"
   ]
  },
  {
   "cell_type": "code",
   "execution_count": 3,
   "id": "74dd7fee-7339-4ebf-aa48-42dce9d08b6f",
   "metadata": {},
   "outputs": [
    {
     "data": {
      "text/plain": [
       "'I want to become a Data Scientist'"
      ]
     },
     "execution_count": 3,
     "metadata": {},
     "output_type": "execute_result"
    }
   ],
   "source": [
    "read_file = open('text.txt','r')\n",
    "read_file.read()"
   ]
  },
  {
   "cell_type": "markdown",
   "id": "1a7f254b-ef95-4c64-ac7e-f4cc3a117d27",
   "metadata": {},
   "source": [
    "## Q4. Explain the following with python code: read(), readline() and readlines()."
   ]
  },
  {
   "cell_type": "code",
   "execution_count": 14,
   "id": "17af916d-3eb2-4d1c-895b-a3cf5e9c751d",
   "metadata": {},
   "outputs": [
    {
     "data": {
      "text/plain": [
       "'I want to become a Data Scientist'"
      ]
     },
     "execution_count": 14,
     "metadata": {},
     "output_type": "execute_result"
    }
   ],
   "source": [
    "file = open('text.txt','r')\n",
    "file.read()"
   ]
  },
  {
   "cell_type": "code",
   "execution_count": 19,
   "id": "a6ad5f2f-c93f-4157-ba89-b8e529b429c0",
   "metadata": {},
   "outputs": [
    {
     "data": {
      "text/plain": [
       "''"
      ]
     },
     "execution_count": 19,
     "metadata": {},
     "output_type": "execute_result"
    }
   ],
   "source": [
    "file.readline()"
   ]
  },
  {
   "cell_type": "code",
   "execution_count": 17,
   "id": "f53d2aa9-a6e7-425b-9eda-7a04f766b9b1",
   "metadata": {},
   "outputs": [
    {
     "data": {
      "text/plain": [
       "[]"
      ]
     },
     "execution_count": 17,
     "metadata": {},
     "output_type": "execute_result"
    }
   ],
   "source": [
    "file.readlines()"
   ]
  },
  {
   "cell_type": "markdown",
   "id": "a7b046bf-f5b5-4d75-8388-f3f313c1775b",
   "metadata": {},
   "source": [
    "## Q5. Explain why with statement is used with open(). What is the advantage of using with statement and open() together?\n"
   ]
  },
  {
   "cell_type": "markdown",
   "id": "79878fc3-7bfe-4797-ba30-cc52fc27d9f8",
   "metadata": {},
   "source": [
    "### Ans: The with statement works with the open() function to open a file. Unlike open() where you have to close the file with the close() method, the with statement closes the file for you without you telling it to.\n",
    "\n",
    "## Advantage:\n",
    "### Combining the with statement and the open() function in Python helps us read and write to the file without being worried about closing it."
   ]
  },
  {
   "cell_type": "markdown",
   "id": "1066a22b-a56d-467e-a3f5-b402d2f47de9",
   "metadata": {},
   "source": [
    "## Q6. Explain the write() and writelines() functions. Give a suitable example."
   ]
  },
  {
   "cell_type": "markdown",
   "id": "d9db9028-edef-4d3b-9386-dd36c6390560",
   "metadata": {},
   "source": [
    "## Ans: \n",
    "### The write() function will write the content in the file without adding any extra characters.\n",
    "### This function writes the content of a list to a file. "
   ]
  },
  {
   "cell_type": "markdown",
   "id": "b3cc6eee-d2a1-4c36-a17c-322d72f19c48",
   "metadata": {},
   "source": [
    "## example: "
   ]
  },
  {
   "cell_type": "code",
   "execution_count": 22,
   "id": "1a807a82-0b27-4f85-b42d-ae93d524e700",
   "metadata": {},
   "outputs": [
    {
     "name": "stdin",
     "output_type": "stream",
     "text": [
      "Enter the name of the employee:  xyz\n",
      "Enter the name of the employee:  abc\n",
      "Enter the name of the employee:  pqr\n"
     ]
    },
    {
     "name": "stdout",
     "output_type": "stream",
     "text": [
      "Data is written into the file.\n"
     ]
    }
   ],
   "source": [
    "file1 = open(\"Employees.txt\", \"w\")\n",
    "lst = []\n",
    "for i in range(3):\n",
    "    name = input(\"Enter the name of the employee: \")\n",
    "    lst.append(name + '\\n')\n",
    "      \n",
    "file1.writelines(lst)\n",
    "file1.close()\n",
    "print(\"Data is written into the file.\") "
   ]
  },
  {
   "cell_type": "code",
   "execution_count": 23,
   "id": "e97c8882-1226-4350-8ac4-761a746bd34e",
   "metadata": {},
   "outputs": [
    {
     "name": "stdin",
     "output_type": "stream",
     "text": [
      "Enter the name of the employee:  abc\n",
      "Enter the name of the employee:  pqr\n",
      "Enter the name of the employee:  xyz\n"
     ]
    },
    {
     "name": "stdout",
     "output_type": "stream",
     "text": [
      "Data is written into the file.\n"
     ]
    }
   ],
   "source": [
    "file = open(\"Employees1.txt\", \"w\")\n",
    "  \n",
    "for i in range(3):\n",
    "   name = input(\"Enter the name of the employee: \")\n",
    "   file.write(name)\n",
    "   file.write(\"\\n\")\n",
    "     \n",
    "file.close()\n",
    "  \n",
    "print(\"Data is written into the file.\")"
   ]
  },
  {
   "cell_type": "code",
   "execution_count": null,
   "id": "6fe31dcf-acb2-40cf-846b-8d781870e391",
   "metadata": {},
   "outputs": [],
   "source": []
  }
 ],
 "metadata": {
  "kernelspec": {
   "display_name": "Python 3 (ipykernel)",
   "language": "python",
   "name": "python3"
  },
  "language_info": {
   "codemirror_mode": {
    "name": "ipython",
    "version": 3
   },
   "file_extension": ".py",
   "mimetype": "text/x-python",
   "name": "python",
   "nbconvert_exporter": "python",
   "pygments_lexer": "ipython3",
   "version": "3.10.8"
  }
 },
 "nbformat": 4,
 "nbformat_minor": 5
}
