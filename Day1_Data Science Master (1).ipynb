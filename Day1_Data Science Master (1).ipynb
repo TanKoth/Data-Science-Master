{
 "cells": [
  {
   "cell_type": "code",
   "execution_count": 1,
   "id": "86d9e164-7cde-42a4-bbeb-9f63b6435c40",
   "metadata": {},
   "outputs": [],
   "source": [
    "a=10"
   ]
  },
  {
   "cell_type": "code",
   "execution_count": 2,
   "id": "59f6c478-f570-4c21-88bc-aeccd3cfaf42",
   "metadata": {},
   "outputs": [
    {
     "data": {
      "text/plain": [
       "10"
      ]
     },
     "execution_count": 2,
     "metadata": {},
     "output_type": "execute_result"
    }
   ],
   "source": [
    "a"
   ]
  },
  {
   "cell_type": "markdown",
   "id": "3ccd502f-e5be-4a13-b561-e2e5c7b96e31",
   "metadata": {},
   "source": [
    "## Numbers"
   ]
  },
  {
   "cell_type": "code",
   "execution_count": 5,
   "id": "173e4b7a-492f-4297-9191-e95c05833337",
   "metadata": {},
   "outputs": [
    {
     "name": "stdout",
     "output_type": "stream",
     "text": [
      "4\n"
     ]
    }
   ],
   "source": [
    "print(1 + 3)"
   ]
  },
  {
   "cell_type": "code",
   "execution_count": 1,
   "id": "5ecb0337-5970-4bdb-8d68-f64f8a260ff2",
   "metadata": {},
   "outputs": [
    {
     "name": "stdout",
     "output_type": "stream",
     "text": [
      "Hi I am Tanmay. \n",
      " I am learning Data science in PW skills.\n"
     ]
    }
   ],
   "source": [
    "print(\"Hi I am Tanmay. \\n I am learning Data science in PW skills.\")"
   ]
  },
  {
   "cell_type": "markdown",
   "id": "c69df415-0261-4dd2-ba32-accb2c4c742b",
   "metadata": {},
   "source": [
    "## Variable Assingments"
   ]
  },
  {
   "cell_type": "code",
   "execution_count": 11,
   "id": "95322dbb-6ca3-441d-97d2-d85bb238ac93",
   "metadata": {},
   "outputs": [],
   "source": [
    "name =\"Tanmay\"\n",
    "Company = \"Amazon, Google, best product base company\""
   ]
  },
  {
   "cell_type": "code",
   "execution_count": 20,
   "id": "57d8483e-3752-4873-983d-d2e2d5ae0679",
   "metadata": {},
   "outputs": [
    {
     "name": "stdout",
     "output_type": "stream",
     "text": [
      "name=Tanmay  Company :Amazon, Google, best product base company\n"
     ]
    }
   ],
   "source": [
    "print(\"name=\" +name,\" Company :\" + Company)"
   ]
  },
  {
   "cell_type": "code",
   "execution_count": 21,
   "id": "5b6528c2-cb8a-4a7c-bf0f-03c081697908",
   "metadata": {},
   "outputs": [
    {
     "data": {
      "text/plain": [
       "str"
      ]
     },
     "execution_count": 21,
     "metadata": {},
     "output_type": "execute_result"
    }
   ],
   "source": [
    "type(name)"
   ]
  },
  {
   "cell_type": "code",
   "execution_count": 22,
   "id": "6004dfd3-4535-4ef4-8e2e-90f527abd236",
   "metadata": {},
   "outputs": [
    {
     "data": {
      "text/plain": [
       "int"
      ]
     },
     "execution_count": 22,
     "metadata": {},
     "output_type": "execute_result"
    }
   ],
   "source": [
    "type(a)"
   ]
  },
  {
   "cell_type": "code",
   "execution_count": 31,
   "id": "1abf359e-c481-4a05-a852-6798d856e402",
   "metadata": {},
   "outputs": [
    {
     "name": "stdout",
     "output_type": "stream",
     "text": [
      "True\n"
     ]
    }
   ],
   "source": [
    "a= 1\n",
    "if(bool(a) == True) :\n",
    "    print(\"True\")"
   ]
  },
  {
   "cell_type": "code",
   "execution_count": 34,
   "id": "afa3a887-8d9c-4944-8441-0c9d3a8df18d",
   "metadata": {},
   "outputs": [
    {
     "data": {
      "text/plain": [
       "'1111111111111111111111111111111111111111111111111111111111111111111111111111111111111111111111111111'"
      ]
     },
     "execution_count": 34,
     "metadata": {},
     "output_type": "execute_result"
    }
   ],
   "source": [
    "\"1\" * 100"
   ]
  },
  {
   "cell_type": "code",
   "execution_count": null,
   "id": "d4feabeb-1a22-4b41-96d0-89d32796e207",
   "metadata": {},
   "outputs": [],
   "source": []
  }
 ],
 "metadata": {
  "kernelspec": {
   "display_name": "Python 3 (ipykernel)",
   "language": "python",
   "name": "python3"
  },
  "language_info": {
   "codemirror_mode": {
    "name": "ipython",
    "version": 3
   },
   "file_extension": ".py",
   "mimetype": "text/x-python",
   "name": "python",
   "nbconvert_exporter": "python",
   "pygments_lexer": "ipython3",
   "version": "3.10.8"
  }
 },
 "nbformat": 4,
 "nbformat_minor": 5
}
